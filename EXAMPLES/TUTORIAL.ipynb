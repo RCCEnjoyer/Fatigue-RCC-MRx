{
 "cells": [
  {
   "cell_type": "markdown",
   "id": "bc996dad",
   "metadata": {},
   "source": [
    "# FATRCC python module tutorial"
   ]
  },
  {
   "cell_type": "markdown",
   "id": "4fdc8281",
   "metadata": {},
   "source": [
    "## 1. Export the mechanical state of the system for both limits of the fatigue cycle\n",
    "\n",
    "Be careful, it is required to activate the option \"Show Tensor Components\" in the export menu of ANSYS Mechanical. If not only the principal components are exported. In ANSYS Mechanical go to File --> Options --> Export --> Show Tensor Components --> Yes.\n",
    "\n",
    "<img src=\"TUTORIAL_IMAGES/ANSYS_edit.PNG\" width=\"900\" height=\"900\">\n"
   ]
  },
  {
   "cell_type": "markdown",
   "id": "b57f1ba7",
   "metadata": {},
   "source": [
    "Depending on the analysis done it is required to save either the stress tensor or the strain tensor. For the elastic fatigue analysis, it is needed to save the stress tensor as shown below. To do so, follow these steps:\n",
    "\n",
    "    1. Click on solution (Outline window)\n",
    "    2. Then, on the home tab click on Worksheet\n",
    "    3. In the solution quantities menu go to type = S, Expression = SVECTORS\n",
    "    4. Right click on it and create a User Defined Result\n",
    "    5. SVECTORS result will appear below solution. Evaluate it if needed and export as text file\n",
    "    6. Then save it in the same folder where you are going to run the python code\n",
    "    \n",
    "<img src=\"TUTORIAL_IMAGES/save_stress.png\" width=\"600\" height=\"600\">\n"
   ]
  },
  {
   "cell_type": "markdown",
   "id": "cdcca319",
   "metadata": {},
   "source": [
    "Regarding the elastoplastic analysis the procedure is equal. The difference is that we are going to save the total strain tensor:\n",
    "\n",
    "    1. Click on solution (Outline window)\n",
    "    2. Then, on the home tab click on Worksheet\n",
    "    3. In the solution quantities menu go to type = EPTT, Expression = EPTTVECTORS\n",
    "    4. Right click on it and create a User Defined Result\n",
    "    5. SVECTORS result will appear below solution. Evaluate it if needed and export as text file\n",
    "    6. Then save it in the same folder where you are going to run the python code\n",
    "    \n",
    "<img src=\"TUTORIAL_IMAGES/save_strain.png\" width=\"600\" height=\"600\">"
   ]
  },
  {
   "cell_type": "markdown",
   "id": "0bd9efbb",
   "metadata": {},
   "source": [
    "At the end you should have your python file and the extracted results in the same file, like this: \n",
    "\n",
    "<img src=\"TUTORIAL_IMAGES/folderConfig.png\" width=\"600\" height=\"600\">"
   ]
  },
  {
   "cell_type": "markdown",
   "id": "6c6578c9",
   "metadata": {},
   "source": [
    "## 2. Run your own code to obtain the result\n",
    "\n",
    "First, load the library. Inside the parentheses, you must specify the relative route between your python file and the library. In this case it is in the container folder (Relative path \"../\")\n"
   ]
  },
  {
   "cell_type": "code",
   "execution_count": 1,
   "id": "7c264acd",
   "metadata": {},
   "outputs": [],
   "source": [
    "import sys\n",
    "sys.path.append('../')\n",
    "\n",
    "from fatrcc import calculation as cl"
   ]
  },
  {
   "cell_type": "markdown",
   "id": "322aca76",
   "metadata": {},
   "source": [
    "Then, you can calculate the point with maximum stress range for the linear fatigue analysis and the maximum number of cycles until fatigue failure with the function cl.elastic_fatigue_worst(). The list of inputs is the following:\n",
    "\n",
    "    1. Stress tensor map for the initial state (ANSYS) --> Pa, m\n",
    "    2. Stress tensor map for the ending state (ANSYS) --> Pa, m\n",
    "    3. Maximum temperature of the solid --> ºC\n",
    "    4. Material of the solid (only X2CrNiMo17 available)\n",
    "    5. Jf: Welding material reduction factor of the strain-cycles curve\n",
    "    6. f: Fatigue strength reduction factor (function of the type of welding and inspection)\n",
    "    "
   ]
  },
  {
   "cell_type": "code",
   "execution_count": 2,
   "id": "0be228b4",
   "metadata": {},
   "outputs": [
    {
     "name": "stdout",
     "output_type": "stream",
     "text": [
      "Reading file:  stress_start_test.txt  ---> Number of lines: 1974563\n",
      "Reading file:  stress_end_test.txt  ---> Number of lines: 1974563\n",
      "\n",
      " Maximum equivalent stress range = 387.845 MPa\n",
      "Point location in ANSYS units:\n",
      "X = 0.031\n",
      "Y = 0.138\n",
      "Z = 0.053\n",
      "\n",
      " Maximum estimated strain range = 0.272%\n",
      "eps 1 = 0.19%\n",
      "eps 3 = 0.05%\n",
      "eps 4 = 0.03%\n",
      "\n",
      " Maximum number of cycles = 3.91e+04\n",
      "############################################## \n",
      "\n"
     ]
    }
   ],
   "source": [
    "cl.elastic_fatigue_worst(\"stress_end_test.txt\", \"stress_start_test.txt\", 270 , \"X2CrNiMo17\", 1, 1)"
   ]
  },
  {
   "cell_type": "markdown",
   "id": "8d3d28de",
   "metadata": {},
   "source": [
    "Additionally you can calculate the point with maximum strain range for the elastoplastic analysis and the maximum number of cycles until fatigue failure with the function cl.elastoplastic_fatigue_worst(). The list of inputs is the following:\n",
    "\n",
    "    1. Strain tensor map for the initial state (ANSYS) --> m/m, m\n",
    "    2. Strain tensor map for the ending state (ANSYS) --> m/m, m\n",
    "    3. Maximum temperature of the solid --> ºC\n",
    "    4. Material of the solid (only X2CrNiMo17 available)\n",
    "    5. Jf: Welding material reduction factor of the strain-cycles curve\n",
    "    6. f: Fatigue strength reduction factor (function of the type of welding and inspection)"
   ]
  },
  {
   "cell_type": "code",
   "execution_count": 2,
   "id": "bec85af3",
   "metadata": {},
   "outputs": [
    {
     "name": "stdout",
     "output_type": "stream",
     "text": [
      "Reading file:  StrainTensor_DUMP_off.txt  ---> Number of lines: 1110398\n",
      "Reading file:  StrainTensor_DUMP_on.txt  ---> Number of lines: 1110398\n",
      "\n",
      " Maximum equivalent strain range = 0.468%\n",
      "Point location in ANSYS units:\n",
      "X = 52.502\n",
      "Y = 0.000\n",
      "Z = 532.710\n",
      "\n",
      " Maximum number of cycles = 3.32e+03\n",
      "############################################## \n",
      "\n"
     ]
    }
   ],
   "source": [
    "cl.elastoplastic_fatigue_worst(\"strain_end_test.txt\", \"strain_start_test.txt\", 300.0 , \"X2CrNiMo17\", 1, 1)"
   ]
  },
  {
   "cell_type": "markdown",
   "id": "dc97dd45",
   "metadata": {},
   "source": [
    "It is also possible to extract the file with the equivalent strain or stress range:\n",
    "\n",
    "    1. Tensor map for the initial state (ANSYS) \n",
    "    2. Tensor map for the ending state (ANSYS)\n",
    "    3. Type of tensor (\"Stress\" or \"Strain\")\n",
    "    4. Name of the output file\n"
   ]
  },
  {
   "cell_type": "code",
   "execution_count": 7,
   "id": "4d09527a",
   "metadata": {},
   "outputs": [
    {
     "name": "stdout",
     "output_type": "stream",
     "text": [
      "Reading file:  stress_start_test.txt  ---> Number of lines: 1974563\n",
      "Reading file:  stress_end_test.txt  ---> Number of lines: 1974563\n"
     ]
    }
   ],
   "source": [
    "cl.write_mesh_range(\"stress_end_test.txt\", \"stress_start_test.txt\", \"Stress\", \"StressRange.csv\")"
   ]
  }
 ],
 "metadata": {
  "kernelspec": {
   "display_name": "Python 3 (ipykernel)",
   "language": "python",
   "name": "python3"
  },
  "language_info": {
   "codemirror_mode": {
    "name": "ipython",
    "version": 3
   },
   "file_extension": ".py",
   "mimetype": "text/x-python",
   "name": "python",
   "nbconvert_exporter": "python",
   "pygments_lexer": "ipython3",
   "version": "3.12.4"
  }
 },
 "nbformat": 4,
 "nbformat_minor": 5
}
